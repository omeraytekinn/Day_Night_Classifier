{
  "nbformat": 4,
  "nbformat_minor": 0,
  "metadata": {
    "colab": {
      "name": "Day_Night_Classifier.ipynb",
      "provenance": [],
      "collapsed_sections": []
    },
    "kernelspec": {
      "name": "python3",
      "display_name": "Python 3"
    },
    "accelerator": "GPU"
  },
  "cells": [
    {
      "cell_type": "code",
      "metadata": {
        "id": "fDLlfAprhPrr",
        "colab_type": "code",
        "outputId": "bf732a52-8e6a-4cd7-b17b-680a0b6becc2",
        "colab": {
          "base_uri": "https://localhost:8080/",
          "height": 139
        }
      },
      "source": [
        "from google.colab import drive\n",
        "drive.mount('/gdrive')\n",
        "\n",
        "%cd \"/gdrive/My Drive/Day_Night\""
      ],
      "execution_count": 1,
      "outputs": [
        {
          "output_type": "stream",
          "text": [
            "Go to this URL in a browser: https://accounts.google.com/o/oauth2/auth?client_id=947318989803-6bn6qk8qdgf4n4g3pfee6491hc0brc4i.apps.googleusercontent.com&redirect_uri=urn%3aietf%3awg%3aoauth%3a2.0%3aoob&response_type=code&scope=email%20https%3a%2f%2fwww.googleapis.com%2fauth%2fdocs.test%20https%3a%2f%2fwww.googleapis.com%2fauth%2fdrive%20https%3a%2f%2fwww.googleapis.com%2fauth%2fdrive.photos.readonly%20https%3a%2f%2fwww.googleapis.com%2fauth%2fpeopleapi.readonly\n",
            "\n",
            "Enter your authorization code:\n",
            "··········\n",
            "Mounted at /gdrive\n",
            "/gdrive/My Drive/Day_Night\n"
          ],
          "name": "stdout"
        }
      ]
    },
    {
      "cell_type": "code",
      "metadata": {
        "id": "86D8mvdPhRL8",
        "colab_type": "code",
        "colab": {
          "base_uri": "https://localhost:8080/",
          "height": 80
        },
        "outputId": "e7568062-a6c9-4cc3-efc5-8da955aed0ee"
      },
      "source": [
        "from keras.applications import VGG16\n",
        "from keras.optimizers import Adam, SGD\n",
        "from keras.models import Sequential, Model, load_model\n",
        "from keras.layers import Conv2D, MaxPooling2D, Dropout, Dense, Activation,GlobalMaxPooling2D\n",
        "from keras.preprocessing.image import ImageDataGenerator\n",
        "import os\n",
        "import cv2\n",
        "from shutil import copyfile as cp"
      ],
      "execution_count": 2,
      "outputs": [
        {
          "output_type": "stream",
          "text": [
            "Using TensorFlow backend.\n"
          ],
          "name": "stderr"
        },
        {
          "output_type": "display_data",
          "data": {
            "text/html": [
              "<p style=\"color: red;\">\n",
              "The default version of TensorFlow in Colab will soon switch to TensorFlow 2.x.<br>\n",
              "We recommend you <a href=\"https://www.tensorflow.org/guide/migrate\" target=\"_blank\">upgrade</a> now \n",
              "or ensure your notebook will continue to use TensorFlow 1.x via the <code>%tensorflow_version 1.x</code> magic:\n",
              "<a href=\"https://colab.research.google.com/notebooks/tensorflow_version.ipynb\" target=\"_blank\">more info</a>.</p>\n"
            ],
            "text/plain": [
              "<IPython.core.display.HTML object>"
            ]
          },
          "metadata": {
            "tags": []
          }
        }
      ]
    },
    {
      "cell_type": "code",
      "metadata": {
        "id": "21uEr5wOj_y4",
        "colab_type": "code",
        "colab": {}
      },
      "source": [
        "def readImg(path):\n",
        "  img = cv2.imread(path)\n",
        "  img = cv2.resize(img, (224,224), interpolation = cv2.INTER_LANCZOS4)\n",
        "  img = img.reshape((1,224, 224, 3))\n",
        "  return img"
      ],
      "execution_count": 0,
      "outputs": []
    },
    {
      "cell_type": "code",
      "metadata": {
        "id": "Nq3rB4v9nV3y",
        "colab_type": "code",
        "colab": {}
      },
      "source": [
        "def test(path):\n",
        "  if not os.path.exists(\"result\"):\n",
        "    os.makedirs(\"result/day\")\n",
        "    os.makedirs(\"result/night\")\n",
        "    img_list = os.listdir(path)\n",
        "    for imgName in img_list:\n",
        "      print(imgName)\n",
        "      img = readImg(path+\"/\"+imgName)\n",
        "      res = model.predict(img)\n",
        "      if res[0][0] > res[0][1]:\n",
        "        cp(path+\"/\"+imgName,\"result/day/\"+imgName)\n",
        "      else:\n",
        "        cp(path+\"/\"+imgName,\"result/night/\"+imgName)"
      ],
      "execution_count": 0,
      "outputs": []
    },
    {
      "cell_type": "code",
      "metadata": {
        "id": "7JXAhC3IvJcw",
        "colab_type": "code",
        "colab": {}
      },
      "source": [
        "def train(path=\"/\", learn=False):\n",
        "  if learn == False:\n",
        "    vgg_conv = load_model(\"day_night.h5\")\n",
        "  else:\n",
        "    vgg_conv = VGG16(weights='imagenet',\n",
        "                      include_top=False,\n",
        "                      input_shape=(224, 224, 3))\n",
        "  pre_trained_model = vgg_conv\n",
        "  for layer in pre_trained_model.layers[:15]:\n",
        "      layer.trainable = False\n",
        "  for layer in pre_trained_model.layers[15:]:\n",
        "      layer.trainable = True\n",
        "\n",
        "  last_layer = pre_trained_model.get_layer('block5_pool')\n",
        "  last_output = last_layer.output\n",
        "\n",
        "  x = GlobalMaxPooling2D()(last_output)\n",
        "  x = Dense(512, activation=\"sigmoid\")(x) \n",
        "  x = Dropout(0.5)(x)\n",
        "  x = Dense(2, activation=\"softmax\")(x)\n",
        "  opt = SGD(lr=0.00001)\n",
        "  model = Model(pre_trained_model.input, x)\n",
        "  model.compile(loss='categorical_crossentropy',\n",
        "                optimizer=opt,\n",
        "                metrics=['accuracy'])\n",
        "  train_datagen = ImageDataGenerator(\n",
        "      fill_mode='nearest'\n",
        "  )\n",
        "  train_generator = train_datagen.flow_from_directory(\n",
        "      path,\n",
        "      target_size=(224, 224),\n",
        "      batch_size = 5,\n",
        "      shuffle=True,\n",
        "      class_mode='categorical')\n",
        "\n",
        "  history = model.fit_generator(\n",
        "      train_generator,\n",
        "      epochs=40,\n",
        "      steps_per_epoch=train_generator.n//5)"
      ],
      "execution_count": 0,
      "outputs": []
    },
    {
      "cell_type": "code",
      "metadata": {
        "id": "AkT5AxzAhggI",
        "colab_type": "code",
        "colab": {
          "base_uri": "https://localhost:8080/",
          "height": 1000
        },
        "outputId": "90579e07-bded-4f2c-898d-2f55ed875b4d"
      },
      "source": [
        "train(\"images/train\")"
      ],
      "execution_count": 6,
      "outputs": [
        {
          "output_type": "stream",
          "text": [
            "Found 240 images belonging to 2 classes.\n",
            "WARNING:tensorflow:From /tensorflow-1.15.0/python3.6/tensorflow_core/python/ops/math_grad.py:1424: where (from tensorflow.python.ops.array_ops) is deprecated and will be removed in a future version.\n",
            "Instructions for updating:\n",
            "Use tf.where in 2.0, which has the same broadcast rule as np.where\n",
            "WARNING:tensorflow:From /usr/local/lib/python3.6/dist-packages/keras/backend/tensorflow_backend.py:1033: The name tf.assign_add is deprecated. Please use tf.compat.v1.assign_add instead.\n",
            "\n",
            "WARNING:tensorflow:From /usr/local/lib/python3.6/dist-packages/keras/backend/tensorflow_backend.py:1020: The name tf.assign is deprecated. Please use tf.compat.v1.assign instead.\n",
            "\n",
            "Epoch 1/40\n",
            "48/48 [==============================] - 108s 2s/step - loss: 0.8305 - acc: 0.5292\n",
            "Epoch 2/40\n",
            "48/48 [==============================] - 5s 110ms/step - loss: 0.8121 - acc: 0.5625\n",
            "Epoch 3/40\n",
            "48/48 [==============================] - 5s 110ms/step - loss: 0.7378 - acc: 0.6167\n",
            "Epoch 4/40\n",
            "48/48 [==============================] - 5s 110ms/step - loss: 0.6764 - acc: 0.6667\n",
            "Epoch 5/40\n",
            "48/48 [==============================] - 5s 111ms/step - loss: 0.6736 - acc: 0.6292\n",
            "Epoch 6/40\n",
            "48/48 [==============================] - 5s 112ms/step - loss: 0.5762 - acc: 0.7292\n",
            "Epoch 7/40\n",
            "48/48 [==============================] - 5s 111ms/step - loss: 0.5159 - acc: 0.7542\n",
            "Epoch 8/40\n",
            "48/48 [==============================] - 5s 112ms/step - loss: 0.4768 - acc: 0.7625\n",
            "Epoch 9/40\n",
            "48/48 [==============================] - 5s 113ms/step - loss: 0.5241 - acc: 0.7542\n",
            "Epoch 10/40\n",
            "48/48 [==============================] - 5s 113ms/step - loss: 0.5037 - acc: 0.7542\n",
            "Epoch 11/40\n",
            "48/48 [==============================] - 5s 113ms/step - loss: 0.4826 - acc: 0.7583\n",
            "Epoch 12/40\n",
            "48/48 [==============================] - 5s 114ms/step - loss: 0.4501 - acc: 0.8000\n",
            "Epoch 13/40\n",
            "48/48 [==============================] - 5s 114ms/step - loss: 0.4742 - acc: 0.7792\n",
            "Epoch 14/40\n",
            "48/48 [==============================] - 6s 115ms/step - loss: 0.4056 - acc: 0.8208\n",
            "Epoch 15/40\n",
            "48/48 [==============================] - 5s 114ms/step - loss: 0.4164 - acc: 0.7958\n",
            "Epoch 16/40\n",
            "48/48 [==============================] - 6s 115ms/step - loss: 0.4373 - acc: 0.8042\n",
            "Epoch 17/40\n",
            "48/48 [==============================] - 6s 115ms/step - loss: 0.4312 - acc: 0.8250\n",
            "Epoch 18/40\n",
            "48/48 [==============================] - 5s 115ms/step - loss: 0.3597 - acc: 0.8500\n",
            "Epoch 19/40\n",
            "48/48 [==============================] - 5s 114ms/step - loss: 0.3708 - acc: 0.8333\n",
            "Epoch 20/40\n",
            "48/48 [==============================] - 6s 115ms/step - loss: 0.3300 - acc: 0.8667\n",
            "Epoch 21/40\n",
            "48/48 [==============================] - 6s 115ms/step - loss: 0.3708 - acc: 0.8250\n",
            "Epoch 22/40\n",
            "48/48 [==============================] - 6s 116ms/step - loss: 0.3423 - acc: 0.8708\n",
            "Epoch 23/40\n",
            "48/48 [==============================] - 6s 115ms/step - loss: 0.2924 - acc: 0.8875\n",
            "Epoch 24/40\n",
            "48/48 [==============================] - 6s 115ms/step - loss: 0.3372 - acc: 0.8708\n",
            "Epoch 25/40\n",
            "48/48 [==============================] - 6s 115ms/step - loss: 0.3330 - acc: 0.8833\n",
            "Epoch 26/40\n",
            "48/48 [==============================] - 5s 114ms/step - loss: 0.3718 - acc: 0.8250\n",
            "Epoch 27/40\n",
            "48/48 [==============================] - 5s 114ms/step - loss: 0.2962 - acc: 0.8917\n",
            "Epoch 28/40\n",
            "48/48 [==============================] - 6s 115ms/step - loss: 0.2757 - acc: 0.9000\n",
            "Epoch 29/40\n",
            "48/48 [==============================] - 6s 116ms/step - loss: 0.3653 - acc: 0.8500\n",
            "Epoch 30/40\n",
            "48/48 [==============================] - 5s 114ms/step - loss: 0.2622 - acc: 0.8958\n",
            "Epoch 31/40\n",
            "48/48 [==============================] - 6s 115ms/step - loss: 0.2556 - acc: 0.9125\n",
            "Epoch 32/40\n",
            "48/48 [==============================] - 5s 114ms/step - loss: 0.3222 - acc: 0.8667\n",
            "Epoch 33/40\n",
            "48/48 [==============================] - 6s 115ms/step - loss: 0.2711 - acc: 0.9000\n",
            "Epoch 34/40\n",
            "48/48 [==============================] - 6s 115ms/step - loss: 0.2918 - acc: 0.8792\n",
            "Epoch 35/40\n",
            "48/48 [==============================] - 6s 116ms/step - loss: 0.2596 - acc: 0.9125\n",
            "Epoch 36/40\n",
            "48/48 [==============================] - 5s 114ms/step - loss: 0.2565 - acc: 0.9083\n",
            "Epoch 37/40\n",
            "48/48 [==============================] - 6s 115ms/step - loss: 0.2681 - acc: 0.8917\n",
            "Epoch 38/40\n",
            "48/48 [==============================] - 6s 115ms/step - loss: 0.2641 - acc: 0.9125\n",
            "Epoch 39/40\n",
            "48/48 [==============================] - 5s 114ms/step - loss: 0.2278 - acc: 0.9333\n",
            "Epoch 40/40\n",
            "48/48 [==============================] - 6s 115ms/step - loss: 0.2411 - acc: 0.9250\n"
          ],
          "name": "stdout"
        }
      ]
    },
    {
      "cell_type": "code",
      "metadata": {
        "id": "raIdBYzxqIAj",
        "colab_type": "code",
        "colab": {}
      },
      "source": [
        "test(\"images/test\")"
      ],
      "execution_count": 0,
      "outputs": []
    }
  ]
}