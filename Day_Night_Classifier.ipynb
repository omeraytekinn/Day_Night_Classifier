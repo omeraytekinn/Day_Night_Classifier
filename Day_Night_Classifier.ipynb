{
  "nbformat": 4,
  "nbformat_minor": 0,
  "metadata": {
    "colab": {
      "name": "Day_Night_Classifier.ipynb",
      "provenance": [],
      "collapsed_sections": []
    },
    "kernelspec": {
      "name": "python3",
      "display_name": "Python 3"
    },
    "accelerator": "GPU"
  },
  "cells": [
    {
      "cell_type": "code",
      "metadata": {
        "id": "fDLlfAprhPrr",
        "colab_type": "code",
        "outputId": "8f746386-6a3d-4d80-e7ad-83a83b82896b",
        "colab": {
          "base_uri": "https://localhost:8080/",
          "height": 139
        }
      },
      "source": [
        "from google.colab import drive\n",
        "drive.mount('/gdrive')\n",
        "\n",
        "%cd \"/gdrive/My Drive/Day_Night\""
      ],
      "execution_count": 0,
      "outputs": [
        {
          "output_type": "stream",
          "text": [
            "Go to this URL in a browser: https://accounts.google.com/o/oauth2/auth?client_id=947318989803-6bn6qk8qdgf4n4g3pfee6491hc0brc4i.apps.googleusercontent.com&redirect_uri=urn%3aietf%3awg%3aoauth%3a2.0%3aoob&response_type=code&scope=email%20https%3a%2f%2fwww.googleapis.com%2fauth%2fdocs.test%20https%3a%2f%2fwww.googleapis.com%2fauth%2fdrive%20https%3a%2f%2fwww.googleapis.com%2fauth%2fdrive.photos.readonly%20https%3a%2f%2fwww.googleapis.com%2fauth%2fpeopleapi.readonly\n",
            "\n",
            "Enter your authorization code:\n",
            "··········\n",
            "Mounted at /gdrive\n",
            "/gdrive/My Drive/asd\n"
          ],
          "name": "stdout"
        }
      ]
    },
    {
      "cell_type": "code",
      "metadata": {
        "id": "86D8mvdPhRL8",
        "colab_type": "code",
        "colab": {}
      },
      "source": [
        "from keras.applications import VGG16\n",
        "from keras.optimizers import Adam, SGD\n",
        "from keras.models import Sequential, Model, load_model\n",
        "from keras.layers import Conv2D, MaxPooling2D, Dropout, Dense, Activation,GlobalMaxPooling2D\n",
        "from keras.preprocessing.image import ImageDataGenerator\n",
        "import os\n",
        "import cv2\n",
        "from shutil import copyfile as cp"
      ],
      "execution_count": 0,
      "outputs": []
    },
    {
      "cell_type": "code",
      "metadata": {
        "id": "21uEr5wOj_y4",
        "colab_type": "code",
        "colab": {}
      },
      "source": [
        "def readImg(path):\n",
        "  img = cv2.imread(path)\n",
        "  img = cv2.resize(img, (224,224), interpolation = cv2.INTER_LANCZOS4)\n",
        "  img = img.reshape((1,224, 224, 3))\n",
        "  return img"
      ],
      "execution_count": 0,
      "outputs": []
    },
    {
      "cell_type": "code",
      "metadata": {
        "id": "Nq3rB4v9nV3y",
        "colab_type": "code",
        "colab": {}
      },
      "source": [
        "def test():\n",
        "  if not os.path.exists(\"images/result\"):\n",
        "  os.makedirs(\"images/result/day\")\n",
        "  os.makedirs(\"images/result/night\")\n",
        "  img_list = os.listdir(\"images/test\")\n",
        "  for imgName in img_list:\n",
        "    print(imgName)\n",
        "    img = readImg(\"images/test/\"+imgName)\n",
        "    res = model.predict(img)\n",
        "    if res[0][0] > res[0][1]:\n",
        "      cp(\"images/test/\"+imgName,\"images/result/day/\"+imgName)\n",
        "    else:\n",
        "      cp(\"images/test/\"+imgName,\"images/result/night/\"+imgName)"
      ],
      "execution_count": 0,
      "outputs": []
    },
    {
      "cell_type": "code",
      "metadata": {
        "id": "qcMIyr_VhZAV",
        "colab_type": "code",
        "colab": {}
      },
      "source": [
        "vgg_conv = VGG16(weights='imagenet',\n",
        "                  include_top=False,\n",
        "                  input_shape=(224, 224, 3))\n",
        "pre_trained_model = vgg_conv\n",
        "for layer in pre_trained_model.layers[:15]:\n",
        "    layer.trainable = False\n",
        "for layer in pre_trained_model.layers[15:]:\n",
        "    layer.trainable = True\n",
        "\n",
        "last_layer = pre_trained_model.get_layer('block5_pool')\n",
        "last_output = last_layer.output\n",
        "\n",
        "x = GlobalMaxPooling2D()(last_output)\n",
        "x = Dense(512, activation=\"sigmoid\")(x) \n",
        "x = Dropout(0.5)(x)\n",
        "x = Dense(2, activation=\"softmax\")(x)\n",
        "opt = SGD(lr=0.00001)\n",
        "model = Model(pre_trained_model.input, x)\n",
        "model.compile(loss='categorical_crossentropy',\n",
        "              optimizer=opt,\n",
        "              metrics=['accuracy'])"
      ],
      "execution_count": 0,
      "outputs": []
    },
    {
      "cell_type": "code",
      "metadata": {
        "id": "AkT5AxzAhggI",
        "colab_type": "code",
        "colab": {}
      },
      "source": [
        "train_datagen = ImageDataGenerator(\n",
        "    fill_mode='nearest'\n",
        ")\n",
        "train_generator = train_datagen.flow_from_directory(\n",
        "    \"images/train\",\n",
        "    target_size=(224, 224),\n",
        "    batch_size = 5,\n",
        "    shuffle=True,\n",
        "    class_mode='categorical')\n",
        "\n",
        "history = model.fit_generator(\n",
        "    train_generator,\n",
        "    epochs=20,\n",
        "    steps_per_epoch=train_generator.n//5)"
      ],
      "execution_count": 0,
      "outputs": []
    }
  ]
}